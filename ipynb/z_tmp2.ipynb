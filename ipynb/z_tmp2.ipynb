{
 "metadata": {
  "language_info": {
   "codemirror_mode": {
    "name": "ipython",
    "version": 3
   },
   "file_extension": ".py",
   "mimetype": "text/x-python",
   "name": "python",
   "nbconvert_exporter": "python",
   "pygments_lexer": "ipython3",
   "version": "3.6.9"
  },
  "orig_nbformat": 2,
  "kernelspec": {
   "name": "python3",
   "display_name": "Python 3",
   "language": "python"
  },
  "metadata": {
   "interpreter": {
    "hash": "1d32d083de5443e80ae33db15d1fd8896dae913c69d9faf431260a27bb617b64"
   }
  }
 },
 "nbformat": 4,
 "nbformat_minor": 2,
 "cells": [
  {
   "cell_type": "code",
   "execution_count": 1,
   "metadata": {},
   "outputs": [],
   "source": [
    "import sys\n",
    "sys.path.append(\"../models\")\n",
    "sys.path.append(\"../utils\")\n",
    "sys.path.append(\"../trainer\")\n",
    "import config\n",
    "import time\n",
    "import numpy as np\n",
    "import tensorflow as tf\n",
    "import data_loader\n",
    "from tra_helper.image_aug import img_missing\n",
    "from tra_helper.plot_dset_one import plot_dset_one\n",
    "from seg_models.model_triple import model_triple\n",
    "from seg_models.unet import unet\n",
    "from base_models.mobilenet import mobilenet_v2\n"
   ]
  },
  {
   "cell_type": "code",
   "execution_count": 2,
   "metadata": {},
   "outputs": [
    {
     "output_type": "stream",
     "name": "stdout",
     "text": [
      "INFO:tensorflow:Using MirroredStrategy with devices ('/job:localhost/replica:0/task:0/device:GPU:0', '/job:localhost/replica:0/task:0/device:GPU:1')\n",
      "Number of devices: 2\n"
     ]
    }
   ],
   "source": [
    "strategy = tf.distribute.MirroredStrategy(devices=[\"/gpu:0\", \"/gpu:1\"])\n",
    "print ('Number of devices: {}'.format(strategy.num_replicas_in_sync))\n"
   ]
  },
  {
   "cell_type": "code",
   "execution_count": 3,
   "metadata": {},
   "outputs": [
    {
     "output_type": "stream",
     "name": "stdout",
     "text": [
      "INFO:tensorflow:Reduce to /job:localhost/replica:0/task:0/device:CPU:0 then broadcast to ('/job:localhost/replica:0/task:0/device:CPU:0',).\n",
      "INFO:tensorflow:Reduce to /job:localhost/replica:0/task:0/device:CPU:0 then broadcast to ('/job:localhost/replica:0/task:0/device:CPU:0',).\n",
      "INFO:tensorflow:Reduce to /job:localhost/replica:0/task:0/device:CPU:0 then broadcast to ('/job:localhost/replica:0/task:0/device:CPU:0',).\n",
      "INFO:tensorflow:Reduce to /job:localhost/replica:0/task:0/device:CPU:0 then broadcast to ('/job:localhost/replica:0/task:0/device:CPU:0',).\n",
      "INFO:tensorflow:Reduce to /job:localhost/replica:0/task:0/device:CPU:0 then broadcast to ('/job:localhost/replica:0/task:0/device:CPU:0',).\n",
      "INFO:tensorflow:Reduce to /job:localhost/replica:0/task:0/device:CPU:0 then broadcast to ('/job:localhost/replica:0/task:0/device:CPU:0',).\n",
      "INFO:tensorflow:Reduce to /job:localhost/replica:0/task:0/device:CPU:0 then broadcast to ('/job:localhost/replica:0/task:0/device:CPU:0',).\n",
      "INFO:tensorflow:Reduce to /job:localhost/replica:0/task:0/device:CPU:0 then broadcast to ('/job:localhost/replica:0/task:0/device:CPU:0',).\n",
      "INFO:tensorflow:Reduce to /job:localhost/replica:0/task:0/device:CPU:0 then broadcast to ('/job:localhost/replica:0/task:0/device:CPU:0',).\n",
      "INFO:tensorflow:Reduce to /job:localhost/replica:0/task:0/device:CPU:0 then broadcast to ('/job:localhost/replica:0/task:0/device:CPU:0',).\n"
     ]
    }
   ],
   "source": [
    "root_dir = '/home/yons/Desktop/developer-luo/SWatNet'\n",
    "## 1. dataset\n",
    "tra_dset = data_loader.get_tra_dset()\n",
    "test_dset = data_loader.get_eva_dset()\n",
    "tra_dset_dist = strategy.experimental_distribute_dataset(tra_dset)\n",
    "test_dset_dist = strategy.experimental_distribute_dataset(test_dset)\n",
    "\n",
    "## 2. training configuration\n",
    "with strategy.scope():\n",
    "    loss_fun = tf.keras.losses.BinaryCrossentropy(\n",
    "        from_logits=False,\n",
    "      reduction=tf.keras.losses.Reduction.NONE)\n",
    "    def compute_loss(labels, predictions):\n",
    "        per_example_loss = loss_fun(labels, predictions)\n",
    "        # per_example_loss /= tf.cast(tf.reduce_prod(tf.shape(labels)[1:]), tf.float32)\n",
    "        return tf.nn.compute_average_loss(per_example_loss, global_batch_size=config.BATCH_SIZE)\n",
    "\n",
    "### metrics\n",
    "with strategy.scope():\n",
    "    test_loss = tf.keras.metrics.Mean(name='test_loss')\n",
    "    train_accuracy = tf.keras.metrics.BinaryAccuracy('tra_oa')\n",
    "    test_accuracy = tf.keras.metrics.BinaryAccuracy('test_oa')\n",
    "\n",
    "# optimizer = config.optimizer\n",
    "# loss_fun = config.binary_ce_loss\n",
    "# tra_loss_tracker = config.tra_loss_tracker\n",
    "# tra_oa = config.tra_oa\n",
    "# tra_miou = config.tra_miou\n"
   ]
  },
  {
   "cell_type": "code",
   "execution_count": 4,
   "metadata": {},
   "outputs": [],
   "source": [
    "# with strategy.scope():\n",
    "#     # model = model_triple(input_shape=(256,256,4), base_model=mobilenet_v2)\n",
    "#     model = unet(nclass=2)\n",
    "#     optimizer = tf.keras.optimizers.Adam()\n",
    "\n",
    "with strategy.scope():\n",
    "    model = tf.keras.Sequential([\n",
    "        tf.keras.layers.Conv2D(filters=1, kernel_size=1),\n",
    "        # tf.keras.layers.Dense(1)\n",
    "        ])\n",
    "    optimizer = tf.keras.optimizers.Adam()\n"
   ]
  },
  {
   "cell_type": "code",
   "execution_count": 5,
   "metadata": {},
   "outputs": [],
   "source": [
    "def train_step(x,y):\n",
    "    with tf.GradientTape() as tape:\n",
    "        y_pre = model(x, training=True)\n",
    "        loss = loss_fun(y, y_pre)\n",
    "    grads = tape.gradient(loss, model.trainable_weights)\n",
    "    optimizer.apply_gradients(zip(grads, model.trainable_weights))\n",
    "    train_accuracy.update_state(y, y_pre)\n",
    "    return loss\n",
    "\n",
    "@tf.function\n",
    "def distributed_train_step(x,y):\n",
    "    per_replica_losses = strategy.run(train_step, args=(x,y,))\n",
    "    return strategy.reduce(tf.distribute.ReduceOp.SUM, per_replica_losses, axis=None)\n"
   ]
  },
  {
   "cell_type": "code",
   "execution_count": 6,
   "metadata": {},
   "outputs": [
    {
     "output_type": "stream",
     "name": "stdout",
     "text": [
      "0\n",
      "INFO:tensorflow:batch_all_reduce: 2 all-reduces with algorithm = nccl, num_packs = 1\n",
      "INFO:tensorflow:batch_all_reduce: 2 all-reduces with algorithm = nccl, num_packs = 1\n",
      "INFO:tensorflow:batch_all_reduce: 2 all-reduces with algorithm = nccl, num_packs = 1\n"
     ]
    },
    {
     "output_type": "error",
     "ename": "ValueError",
     "evalue": "in user code:\n\n    <ipython-input-5-66da89dd14a6>:13 distributed_train_step  *\n        return strategy.reduce(tf.distribute.ReduceOp.SUM, per_replica_losses, axis=None)\n    /home/yons/Desktop/developer-luo/SWatNet/venv/lib/python3.6/site-packages/tensorflow/python/distribute/distribute_lib.py:1371 reduce  **\n        return self._extended._reduce(reduce_op, value)  # pylint: disable=protected-access\n    /home/yons/Desktop/developer-luo/SWatNet/venv/lib/python3.6/site-packages/tensorflow/python/distribute/distribute_lib.py:2214 _reduce\n        return self._local_results(self.reduce_to(reduce_op, value, dst))[0]\n    /home/yons/Desktop/developer-luo/SWatNet/venv/lib/python3.6/site-packages/tensorflow/python/distribute/distribute_lib.py:2299 reduce_to\n        return self._reduce_to(reduce_op, value, destinations, options)\n    /home/yons/Desktop/developer-luo/SWatNet/venv/lib/python3.6/site-packages/tensorflow/python/distribute/mirrored_strategy.py:684 _reduce_to\n        options=self._communication_options.merge(options))\n    /home/yons/Desktop/developer-luo/SWatNet/venv/lib/python3.6/site-packages/tensorflow/python/distribute/cross_device_ops.py:299 reduce\n        destinations, options)\n    /home/yons/Desktop/developer-luo/SWatNet/venv/lib/python3.6/site-packages/tensorflow/python/distribute/cross_device_ops.py:813 reduce_implementation\n        destinations)\n    /home/yons/Desktop/developer-luo/SWatNet/venv/lib/python3.6/site-packages/tensorflow/python/distribute/cross_device_ops.py:299 reduce\n        destinations, options)\n    /home/yons/Desktop/developer-luo/SWatNet/venv/lib/python3.6/site-packages/tensorflow/python/distribute/cross_device_ops.py:567 reduce_implementation\n        self.accumulation_fn, reduce_op)\n    /home/yons/Desktop/developer-luo/SWatNet/venv/lib/python3.6/site-packages/tensorflow/python/distribute/cross_device_ops.py:209 _simple_reduce\n        all_values, accumulation_fn)\n    /home/yons/Desktop/developer-luo/SWatNet/venv/lib/python3.6/site-packages/tensorflow/python/distribute/cross_device_utils.py:607 aggregate_tensors_or_indexed_slices\n        return accumulation_fn(values)\n    /home/yons/Desktop/developer-luo/SWatNet/venv/lib/python3.6/site-packages/tensorflow/python/util/dispatch.py:201 wrapper\n        return target(*args, **kwargs)\n    /home/yons/Desktop/developer-luo/SWatNet/venv/lib/python3.6/site-packages/tensorflow/python/ops/math_ops.py:3572 add_n\n        return gen_math_ops.add_n(inputs, name=name)\n    /home/yons/Desktop/developer-luo/SWatNet/venv/lib/python3.6/site-packages/tensorflow/python/ops/gen_math_ops.py:419 add_n\n        \"AddN\", inputs=inputs, name=name)\n    /home/yons/Desktop/developer-luo/SWatNet/venv/lib/python3.6/site-packages/tensorflow/python/framework/op_def_library.py:750 _apply_op_helper\n        attrs=attr_protos, op_def=op_def)\n    /home/yons/Desktop/developer-luo/SWatNet/venv/lib/python3.6/site-packages/tensorflow/python/framework/func_graph.py:592 _create_op_internal\n        compute_device)\n    /home/yons/Desktop/developer-luo/SWatNet/venv/lib/python3.6/site-packages/tensorflow/python/framework/ops.py:3536 _create_op_internal\n        op_def=op_def)\n    /home/yons/Desktop/developer-luo/SWatNet/venv/lib/python3.6/site-packages/tensorflow/python/framework/ops.py:2016 __init__\n        control_input_ops, op_def)\n    /home/yons/Desktop/developer-luo/SWatNet/venv/lib/python3.6/site-packages/tensorflow/python/framework/ops.py:1856 _create_c_op\n        raise ValueError(str(e))\n\n    ValueError: Dimension 0 in both shapes must be equal, but are 2 and 0. Shapes are [2,256,256] and [0,256,256].\n    \tFrom merging shape 0 with other shapes. for '{{node AddN_1}} = AddN[N=2, T=DT_FLOAT](binary_crossentropy/weighted_loss/Mul, replica_1/binary_crossentropy/weighted_loss/Mul)' with input shapes: [2,256,256], [0,256,256].\n",
     "traceback": [
      "\u001b[0;31m---------------------------------------------------------------------------\u001b[0m",
      "\u001b[0;31mValueError\u001b[0m                                Traceback (most recent call last)",
      "\u001b[0;32m<ipython-input-6-65ced7c383ff>\u001b[0m in \u001b[0;36m<module>\u001b[0;34m\u001b[0m\n\u001b[1;32m      4\u001b[0m         \u001b[0;31m# x_batch = img_missing(x_batch)\u001b[0m\u001b[0;34m\u001b[0m\u001b[0;34m\u001b[0m\u001b[0;34m\u001b[0m\u001b[0m\n\u001b[1;32m      5\u001b[0m         \u001b[0mx_batch\u001b[0m\u001b[0;34m=\u001b[0m\u001b[0mx_batch\u001b[0m\u001b[0;34m[\u001b[0m\u001b[0;36m2\u001b[0m\u001b[0;34m]\u001b[0m   \u001b[0;31m##!!note: x_batch[2] for single-scale model\u001b[0m\u001b[0;34m\u001b[0m\u001b[0;34m\u001b[0m\u001b[0m\n\u001b[0;32m----> 6\u001b[0;31m         \u001b[0mtotal_loss\u001b[0m \u001b[0;34m=\u001b[0m \u001b[0mdistributed_train_step\u001b[0m\u001b[0;34m(\u001b[0m\u001b[0mx_batch\u001b[0m\u001b[0;34m,\u001b[0m\u001b[0my_batch\u001b[0m\u001b[0;34m)\u001b[0m\u001b[0;34m\u001b[0m\u001b[0;34m\u001b[0m\u001b[0m\n\u001b[0m\u001b[1;32m      7\u001b[0m     \u001b[0mprint\u001b[0m\u001b[0;34m(\u001b[0m\u001b[0;34m'loss:'\u001b[0m\u001b[0;34m,\u001b[0m \u001b[0mtotal_loss\u001b[0m\u001b[0;34m.\u001b[0m\u001b[0mresult\u001b[0m\u001b[0;34m(\u001b[0m\u001b[0;34m)\u001b[0m\u001b[0;34m)\u001b[0m\u001b[0;34m\u001b[0m\u001b[0;34m\u001b[0m\u001b[0m\n",
      "\u001b[0;32m~/Desktop/developer-luo/SWatNet/venv/lib/python3.6/site-packages/tensorflow/python/eager/def_function.py\u001b[0m in \u001b[0;36m__call__\u001b[0;34m(self, *args, **kwds)\u001b[0m\n\u001b[1;32m    826\u001b[0m     \u001b[0mtracing_count\u001b[0m \u001b[0;34m=\u001b[0m \u001b[0mself\u001b[0m\u001b[0;34m.\u001b[0m\u001b[0mexperimental_get_tracing_count\u001b[0m\u001b[0;34m(\u001b[0m\u001b[0;34m)\u001b[0m\u001b[0;34m\u001b[0m\u001b[0;34m\u001b[0m\u001b[0m\n\u001b[1;32m    827\u001b[0m     \u001b[0;32mwith\u001b[0m \u001b[0mtrace\u001b[0m\u001b[0;34m.\u001b[0m\u001b[0mTrace\u001b[0m\u001b[0;34m(\u001b[0m\u001b[0mself\u001b[0m\u001b[0;34m.\u001b[0m\u001b[0m_name\u001b[0m\u001b[0;34m)\u001b[0m \u001b[0;32mas\u001b[0m \u001b[0mtm\u001b[0m\u001b[0;34m:\u001b[0m\u001b[0;34m\u001b[0m\u001b[0;34m\u001b[0m\u001b[0m\n\u001b[0;32m--> 828\u001b[0;31m       \u001b[0mresult\u001b[0m \u001b[0;34m=\u001b[0m \u001b[0mself\u001b[0m\u001b[0;34m.\u001b[0m\u001b[0m_call\u001b[0m\u001b[0;34m(\u001b[0m\u001b[0;34m*\u001b[0m\u001b[0margs\u001b[0m\u001b[0;34m,\u001b[0m \u001b[0;34m**\u001b[0m\u001b[0mkwds\u001b[0m\u001b[0;34m)\u001b[0m\u001b[0;34m\u001b[0m\u001b[0;34m\u001b[0m\u001b[0m\n\u001b[0m\u001b[1;32m    829\u001b[0m       \u001b[0mcompiler\u001b[0m \u001b[0;34m=\u001b[0m \u001b[0;34m\"xla\"\u001b[0m \u001b[0;32mif\u001b[0m \u001b[0mself\u001b[0m\u001b[0;34m.\u001b[0m\u001b[0m_experimental_compile\u001b[0m \u001b[0;32melse\u001b[0m \u001b[0;34m\"nonXla\"\u001b[0m\u001b[0;34m\u001b[0m\u001b[0;34m\u001b[0m\u001b[0m\n\u001b[1;32m    830\u001b[0m       \u001b[0mnew_tracing_count\u001b[0m \u001b[0;34m=\u001b[0m \u001b[0mself\u001b[0m\u001b[0;34m.\u001b[0m\u001b[0mexperimental_get_tracing_count\u001b[0m\u001b[0;34m(\u001b[0m\u001b[0;34m)\u001b[0m\u001b[0;34m\u001b[0m\u001b[0;34m\u001b[0m\u001b[0m\n",
      "\u001b[0;32m~/Desktop/developer-luo/SWatNet/venv/lib/python3.6/site-packages/tensorflow/python/eager/def_function.py\u001b[0m in \u001b[0;36m_call\u001b[0;34m(self, *args, **kwds)\u001b[0m\n\u001b[1;32m    853\u001b[0m       \u001b[0;31m# In this case we have created variables on the first call, so we run the\u001b[0m\u001b[0;34m\u001b[0m\u001b[0;34m\u001b[0m\u001b[0;34m\u001b[0m\u001b[0m\n\u001b[1;32m    854\u001b[0m       \u001b[0;31m# defunned version which is guaranteed to never create variables.\u001b[0m\u001b[0;34m\u001b[0m\u001b[0;34m\u001b[0m\u001b[0;34m\u001b[0m\u001b[0m\n\u001b[0;32m--> 855\u001b[0;31m       \u001b[0;32mreturn\u001b[0m \u001b[0mself\u001b[0m\u001b[0;34m.\u001b[0m\u001b[0m_stateless_fn\u001b[0m\u001b[0;34m(\u001b[0m\u001b[0;34m*\u001b[0m\u001b[0margs\u001b[0m\u001b[0;34m,\u001b[0m \u001b[0;34m**\u001b[0m\u001b[0mkwds\u001b[0m\u001b[0;34m)\u001b[0m  \u001b[0;31m# pylint: disable=not-callable\u001b[0m\u001b[0;34m\u001b[0m\u001b[0;34m\u001b[0m\u001b[0m\n\u001b[0m\u001b[1;32m    856\u001b[0m     \u001b[0;32melif\u001b[0m \u001b[0mself\u001b[0m\u001b[0;34m.\u001b[0m\u001b[0m_stateful_fn\u001b[0m \u001b[0;32mis\u001b[0m \u001b[0;32mnot\u001b[0m \u001b[0;32mNone\u001b[0m\u001b[0;34m:\u001b[0m\u001b[0;34m\u001b[0m\u001b[0;34m\u001b[0m\u001b[0m\n\u001b[1;32m    857\u001b[0m       \u001b[0;31m# Release the lock early so that multiple threads can perform the call\u001b[0m\u001b[0;34m\u001b[0m\u001b[0;34m\u001b[0m\u001b[0;34m\u001b[0m\u001b[0m\n",
      "\u001b[0;32m~/Desktop/developer-luo/SWatNet/venv/lib/python3.6/site-packages/tensorflow/python/eager/function.py\u001b[0m in \u001b[0;36m__call__\u001b[0;34m(self, *args, **kwargs)\u001b[0m\n\u001b[1;32m   2939\u001b[0m     \u001b[0;32mwith\u001b[0m \u001b[0mself\u001b[0m\u001b[0;34m.\u001b[0m\u001b[0m_lock\u001b[0m\u001b[0;34m:\u001b[0m\u001b[0;34m\u001b[0m\u001b[0;34m\u001b[0m\u001b[0m\n\u001b[1;32m   2940\u001b[0m       (graph_function,\n\u001b[0;32m-> 2941\u001b[0;31m        filtered_flat_args) = self._maybe_define_function(args, kwargs)\n\u001b[0m\u001b[1;32m   2942\u001b[0m     return graph_function._call_flat(\n\u001b[1;32m   2943\u001b[0m         filtered_flat_args, captured_inputs=graph_function.captured_inputs)  # pylint: disable=protected-access\n",
      "\u001b[0;32m~/Desktop/developer-luo/SWatNet/venv/lib/python3.6/site-packages/tensorflow/python/eager/function.py\u001b[0m in \u001b[0;36m_maybe_define_function\u001b[0;34m(self, args, kwargs)\u001b[0m\n\u001b[1;32m   3359\u001b[0m \u001b[0;34m\u001b[0m\u001b[0m\n\u001b[1;32m   3360\u001b[0m           \u001b[0mself\u001b[0m\u001b[0;34m.\u001b[0m\u001b[0m_function_cache\u001b[0m\u001b[0;34m.\u001b[0m\u001b[0mmissed\u001b[0m\u001b[0;34m.\u001b[0m\u001b[0madd\u001b[0m\u001b[0;34m(\u001b[0m\u001b[0mcall_context_key\u001b[0m\u001b[0;34m)\u001b[0m\u001b[0;34m\u001b[0m\u001b[0;34m\u001b[0m\u001b[0m\n\u001b[0;32m-> 3361\u001b[0;31m           \u001b[0mgraph_function\u001b[0m \u001b[0;34m=\u001b[0m \u001b[0mself\u001b[0m\u001b[0;34m.\u001b[0m\u001b[0m_create_graph_function\u001b[0m\u001b[0;34m(\u001b[0m\u001b[0margs\u001b[0m\u001b[0;34m,\u001b[0m \u001b[0mkwargs\u001b[0m\u001b[0;34m)\u001b[0m\u001b[0;34m\u001b[0m\u001b[0;34m\u001b[0m\u001b[0m\n\u001b[0m\u001b[1;32m   3362\u001b[0m           \u001b[0mself\u001b[0m\u001b[0;34m.\u001b[0m\u001b[0m_function_cache\u001b[0m\u001b[0;34m.\u001b[0m\u001b[0mprimary\u001b[0m\u001b[0;34m[\u001b[0m\u001b[0mcache_key\u001b[0m\u001b[0;34m]\u001b[0m \u001b[0;34m=\u001b[0m \u001b[0mgraph_function\u001b[0m\u001b[0;34m\u001b[0m\u001b[0;34m\u001b[0m\u001b[0m\n\u001b[1;32m   3363\u001b[0m \u001b[0;34m\u001b[0m\u001b[0m\n",
      "\u001b[0;32m~/Desktop/developer-luo/SWatNet/venv/lib/python3.6/site-packages/tensorflow/python/eager/function.py\u001b[0m in \u001b[0;36m_create_graph_function\u001b[0;34m(self, args, kwargs, override_flat_arg_shapes)\u001b[0m\n\u001b[1;32m   3204\u001b[0m             \u001b[0marg_names\u001b[0m\u001b[0;34m=\u001b[0m\u001b[0marg_names\u001b[0m\u001b[0;34m,\u001b[0m\u001b[0;34m\u001b[0m\u001b[0;34m\u001b[0m\u001b[0m\n\u001b[1;32m   3205\u001b[0m             \u001b[0moverride_flat_arg_shapes\u001b[0m\u001b[0;34m=\u001b[0m\u001b[0moverride_flat_arg_shapes\u001b[0m\u001b[0;34m,\u001b[0m\u001b[0;34m\u001b[0m\u001b[0;34m\u001b[0m\u001b[0m\n\u001b[0;32m-> 3206\u001b[0;31m             capture_by_value=self._capture_by_value),\n\u001b[0m\u001b[1;32m   3207\u001b[0m         \u001b[0mself\u001b[0m\u001b[0;34m.\u001b[0m\u001b[0m_function_attributes\u001b[0m\u001b[0;34m,\u001b[0m\u001b[0;34m\u001b[0m\u001b[0;34m\u001b[0m\u001b[0m\n\u001b[1;32m   3208\u001b[0m         \u001b[0mfunction_spec\u001b[0m\u001b[0;34m=\u001b[0m\u001b[0mself\u001b[0m\u001b[0;34m.\u001b[0m\u001b[0mfunction_spec\u001b[0m\u001b[0;34m,\u001b[0m\u001b[0;34m\u001b[0m\u001b[0;34m\u001b[0m\u001b[0m\n",
      "\u001b[0;32m~/Desktop/developer-luo/SWatNet/venv/lib/python3.6/site-packages/tensorflow/python/framework/func_graph.py\u001b[0m in \u001b[0;36mfunc_graph_from_py_func\u001b[0;34m(name, python_func, args, kwargs, signature, func_graph, autograph, autograph_options, add_control_dependencies, arg_names, op_return_value, collections, capture_by_value, override_flat_arg_shapes)\u001b[0m\n\u001b[1;32m    988\u001b[0m         \u001b[0m_\u001b[0m\u001b[0;34m,\u001b[0m \u001b[0moriginal_func\u001b[0m \u001b[0;34m=\u001b[0m \u001b[0mtf_decorator\u001b[0m\u001b[0;34m.\u001b[0m\u001b[0munwrap\u001b[0m\u001b[0;34m(\u001b[0m\u001b[0mpython_func\u001b[0m\u001b[0;34m)\u001b[0m\u001b[0;34m\u001b[0m\u001b[0;34m\u001b[0m\u001b[0m\n\u001b[1;32m    989\u001b[0m \u001b[0;34m\u001b[0m\u001b[0m\n\u001b[0;32m--> 990\u001b[0;31m       \u001b[0mfunc_outputs\u001b[0m \u001b[0;34m=\u001b[0m \u001b[0mpython_func\u001b[0m\u001b[0;34m(\u001b[0m\u001b[0;34m*\u001b[0m\u001b[0mfunc_args\u001b[0m\u001b[0;34m,\u001b[0m \u001b[0;34m**\u001b[0m\u001b[0mfunc_kwargs\u001b[0m\u001b[0;34m)\u001b[0m\u001b[0;34m\u001b[0m\u001b[0;34m\u001b[0m\u001b[0m\n\u001b[0m\u001b[1;32m    991\u001b[0m \u001b[0;34m\u001b[0m\u001b[0m\n\u001b[1;32m    992\u001b[0m       \u001b[0;31m# invariant: `func_outputs` contains only Tensors, CompositeTensors,\u001b[0m\u001b[0;34m\u001b[0m\u001b[0;34m\u001b[0m\u001b[0;34m\u001b[0m\u001b[0m\n",
      "\u001b[0;32m~/Desktop/developer-luo/SWatNet/venv/lib/python3.6/site-packages/tensorflow/python/eager/def_function.py\u001b[0m in \u001b[0;36mwrapped_fn\u001b[0;34m(*args, **kwds)\u001b[0m\n\u001b[1;32m    632\u001b[0m             \u001b[0mxla_context\u001b[0m\u001b[0;34m.\u001b[0m\u001b[0mExit\u001b[0m\u001b[0;34m(\u001b[0m\u001b[0;34m)\u001b[0m\u001b[0;34m\u001b[0m\u001b[0;34m\u001b[0m\u001b[0m\n\u001b[1;32m    633\u001b[0m         \u001b[0;32melse\u001b[0m\u001b[0;34m:\u001b[0m\u001b[0;34m\u001b[0m\u001b[0;34m\u001b[0m\u001b[0m\n\u001b[0;32m--> 634\u001b[0;31m           \u001b[0mout\u001b[0m \u001b[0;34m=\u001b[0m \u001b[0mweak_wrapped_fn\u001b[0m\u001b[0;34m(\u001b[0m\u001b[0;34m)\u001b[0m\u001b[0;34m.\u001b[0m\u001b[0m__wrapped__\u001b[0m\u001b[0;34m(\u001b[0m\u001b[0;34m*\u001b[0m\u001b[0margs\u001b[0m\u001b[0;34m,\u001b[0m \u001b[0;34m**\u001b[0m\u001b[0mkwds\u001b[0m\u001b[0;34m)\u001b[0m\u001b[0;34m\u001b[0m\u001b[0;34m\u001b[0m\u001b[0m\n\u001b[0m\u001b[1;32m    635\u001b[0m         \u001b[0;32mreturn\u001b[0m \u001b[0mout\u001b[0m\u001b[0;34m\u001b[0m\u001b[0;34m\u001b[0m\u001b[0m\n\u001b[1;32m    636\u001b[0m \u001b[0;34m\u001b[0m\u001b[0m\n",
      "\u001b[0;32m~/Desktop/developer-luo/SWatNet/venv/lib/python3.6/site-packages/tensorflow/python/framework/func_graph.py\u001b[0m in \u001b[0;36mwrapper\u001b[0;34m(*args, **kwargs)\u001b[0m\n\u001b[1;32m    975\u001b[0m           \u001b[0;32mexcept\u001b[0m \u001b[0mException\u001b[0m \u001b[0;32mas\u001b[0m \u001b[0me\u001b[0m\u001b[0;34m:\u001b[0m  \u001b[0;31m# pylint:disable=broad-except\u001b[0m\u001b[0;34m\u001b[0m\u001b[0;34m\u001b[0m\u001b[0m\n\u001b[1;32m    976\u001b[0m             \u001b[0;32mif\u001b[0m \u001b[0mhasattr\u001b[0m\u001b[0;34m(\u001b[0m\u001b[0me\u001b[0m\u001b[0;34m,\u001b[0m \u001b[0;34m\"ag_error_metadata\"\u001b[0m\u001b[0;34m)\u001b[0m\u001b[0;34m:\u001b[0m\u001b[0;34m\u001b[0m\u001b[0;34m\u001b[0m\u001b[0m\n\u001b[0;32m--> 977\u001b[0;31m               \u001b[0;32mraise\u001b[0m \u001b[0me\u001b[0m\u001b[0;34m.\u001b[0m\u001b[0mag_error_metadata\u001b[0m\u001b[0;34m.\u001b[0m\u001b[0mto_exception\u001b[0m\u001b[0;34m(\u001b[0m\u001b[0me\u001b[0m\u001b[0;34m)\u001b[0m\u001b[0;34m\u001b[0m\u001b[0;34m\u001b[0m\u001b[0m\n\u001b[0m\u001b[1;32m    978\u001b[0m             \u001b[0;32melse\u001b[0m\u001b[0;34m:\u001b[0m\u001b[0;34m\u001b[0m\u001b[0;34m\u001b[0m\u001b[0m\n\u001b[1;32m    979\u001b[0m               \u001b[0;32mraise\u001b[0m\u001b[0;34m\u001b[0m\u001b[0;34m\u001b[0m\u001b[0m\n",
      "\u001b[0;31mValueError\u001b[0m: in user code:\n\n    <ipython-input-5-66da89dd14a6>:13 distributed_train_step  *\n        return strategy.reduce(tf.distribute.ReduceOp.SUM, per_replica_losses, axis=None)\n    /home/yons/Desktop/developer-luo/SWatNet/venv/lib/python3.6/site-packages/tensorflow/python/distribute/distribute_lib.py:1371 reduce  **\n        return self._extended._reduce(reduce_op, value)  # pylint: disable=protected-access\n    /home/yons/Desktop/developer-luo/SWatNet/venv/lib/python3.6/site-packages/tensorflow/python/distribute/distribute_lib.py:2214 _reduce\n        return self._local_results(self.reduce_to(reduce_op, value, dst))[0]\n    /home/yons/Desktop/developer-luo/SWatNet/venv/lib/python3.6/site-packages/tensorflow/python/distribute/distribute_lib.py:2299 reduce_to\n        return self._reduce_to(reduce_op, value, destinations, options)\n    /home/yons/Desktop/developer-luo/SWatNet/venv/lib/python3.6/site-packages/tensorflow/python/distribute/mirrored_strategy.py:684 _reduce_to\n        options=self._communication_options.merge(options))\n    /home/yons/Desktop/developer-luo/SWatNet/venv/lib/python3.6/site-packages/tensorflow/python/distribute/cross_device_ops.py:299 reduce\n        destinations, options)\n    /home/yons/Desktop/developer-luo/SWatNet/venv/lib/python3.6/site-packages/tensorflow/python/distribute/cross_device_ops.py:813 reduce_implementation\n        destinations)\n    /home/yons/Desktop/developer-luo/SWatNet/venv/lib/python3.6/site-packages/tensorflow/python/distribute/cross_device_ops.py:299 reduce\n        destinations, options)\n    /home/yons/Desktop/developer-luo/SWatNet/venv/lib/python3.6/site-packages/tensorflow/python/distribute/cross_device_ops.py:567 reduce_implementation\n        self.accumulation_fn, reduce_op)\n    /home/yons/Desktop/developer-luo/SWatNet/venv/lib/python3.6/site-packages/tensorflow/python/distribute/cross_device_ops.py:209 _simple_reduce\n        all_values, accumulation_fn)\n    /home/yons/Desktop/developer-luo/SWatNet/venv/lib/python3.6/site-packages/tensorflow/python/distribute/cross_device_utils.py:607 aggregate_tensors_or_indexed_slices\n        return accumulation_fn(values)\n    /home/yons/Desktop/developer-luo/SWatNet/venv/lib/python3.6/site-packages/tensorflow/python/util/dispatch.py:201 wrapper\n        return target(*args, **kwargs)\n    /home/yons/Desktop/developer-luo/SWatNet/venv/lib/python3.6/site-packages/tensorflow/python/ops/math_ops.py:3572 add_n\n        return gen_math_ops.add_n(inputs, name=name)\n    /home/yons/Desktop/developer-luo/SWatNet/venv/lib/python3.6/site-packages/tensorflow/python/ops/gen_math_ops.py:419 add_n\n        \"AddN\", inputs=inputs, name=name)\n    /home/yons/Desktop/developer-luo/SWatNet/venv/lib/python3.6/site-packages/tensorflow/python/framework/op_def_library.py:750 _apply_op_helper\n        attrs=attr_protos, op_def=op_def)\n    /home/yons/Desktop/developer-luo/SWatNet/venv/lib/python3.6/site-packages/tensorflow/python/framework/func_graph.py:592 _create_op_internal\n        compute_device)\n    /home/yons/Desktop/developer-luo/SWatNet/venv/lib/python3.6/site-packages/tensorflow/python/framework/ops.py:3536 _create_op_internal\n        op_def=op_def)\n    /home/yons/Desktop/developer-luo/SWatNet/venv/lib/python3.6/site-packages/tensorflow/python/framework/ops.py:2016 __init__\n        control_input_ops, op_def)\n    /home/yons/Desktop/developer-luo/SWatNet/venv/lib/python3.6/site-packages/tensorflow/python/framework/ops.py:1856 _create_c_op\n        raise ValueError(str(e))\n\n    ValueError: Dimension 0 in both shapes must be equal, but are 2 and 0. Shapes are [2,256,256] and [0,256,256].\n    \tFrom merging shape 0 with other shapes. for '{{node AddN_1}} = AddN[N=2, T=DT_FLOAT](binary_crossentropy/weighted_loss/Mul, replica_1/binary_crossentropy/weighted_loss/Mul)' with input shapes: [2,256,256], [0,256,256].\n"
     ]
    }
   ],
   "source": [
    "for epoch in range(10):\n",
    "    print(epoch)\n",
    "    for x_batch, y_batch in test_dset_dist:\n",
    "        # x_batch = img_missing(x_batch)\n",
    "        x_batch=x_batch[2]   ##!!note: x_batch[2] for single-scale model\n",
    "        total_loss = distributed_train_step(x_batch,y_batch)\n",
    "    print('loss:', total_loss.result())\n"
   ]
  },
  {
   "cell_type": "code",
   "execution_count": 11,
   "metadata": {},
   "outputs": [],
   "source": [
    "\n"
   ]
  },
  {
   "cell_type": "code",
   "execution_count": 21,
   "metadata": {},
   "outputs": [],
   "source": [
    "'''------train step------'''\n",
    "# @tf.function\n",
    "def train_step(x, y):\n",
    "    with tf.GradientTape() as tape:\n",
    "        y_pre = model(x, training=True)\n",
    "        loss = compute_loss(y, y_pre)\n",
    "    grads = tape.gradient(loss, model.trainable_weights)\n",
    "    optimizer.apply_gradients(zip(grads, model.trainable_weights))\n",
    "    train_accuracy.update_state(y, y_pre)\n",
    "    return loss\n",
    "\n",
    "@tf.function\n",
    "def distributed_train_step(x, y):\n",
    "    per_replica_losses = strategy.run(train_step, args=(x, y))\n",
    "    return strategy.reduce(tf.distribute.ReduceOp.SUM, per_replica_losses, axis=None)\n",
    "\n",
    "'''------test step------'''\n",
    "# @tf.function\n",
    "def test_step(x, y):\n",
    "    y_pre = model(x, training=False)\n",
    "    loss = loss_fun(y, y_pre)\n",
    "    test_loss.update_state(loss)\n",
    "    test_accuracy.update_state(y, y_pre)\n",
    "    return test_accuracy.result()\n",
    "\n",
    "@tf.function\n",
    "def distributed_test_step(x, y):\n",
    "    return strategy.run(test_step, args=(x, y))\n",
    "\n",
    "'''------train loops------'''\n",
    "def train_loops(tra_dset, test_dset, epochs):\n",
    "    max_miou_pre = 0.8\n",
    "    num_batches = 0\n",
    "    for epoch in range(epochs):\n",
    "        print(epoch)\n",
    "        start = time.time()\n",
    "\n",
    "        '''---train the model---'''\n",
    "        for x_batch, y_batch in tra_dset:\n",
    "            # x_batch = img_missing(x_batch)\n",
    "            x_batch=x_batch[2]   ##!!note: x_batch[2] for single-scale model\n",
    "            total_loss = distributed_train_step(x_batch, y_batch)\n",
    "            num_batches += 1\n",
    "        train_loss = total_loss/num_batches\n",
    "\n",
    "        '''---test the model---'''\n",
    "        for x_batch, y_batch in test_dset:\n",
    "            x_batch=x_batch[2]  ##!note: x_batch[2] for single-scale model\n",
    "            distributed_test_step(x_batch, y_batch)\n",
    "\n",
    "        template = (\"Epoch {}, Loss: {:.3f}, Accuracy: {:.3f}, Test Loss: {:.3f}, \"\n",
    "              \"Test Accuracy: {:.3f}, Time: {:.1f}\")\n",
    "        print(template.format(epoch+1, train_loss, train_accuracy.result(),\n",
    "            test_loss.result(), test_accuracy.result(),  time.time() - start))\n",
    "        \n",
    "        test_loss.reset_states()\n",
    "        train_accuracy.reset_states()\n",
    "        test_accuracy.reset_states()\n",
    "\n",
    "        '''---visualize the results---'''\n",
    "        if epoch%20 == 0:\n",
    "            figure = plot_dset_one(model, test_dset.take(1), \\\n",
    "                        i_patch=np.random.randint(8), binary=False, \\\n",
    "                        multiscale=False, weight=False)\n"
   ]
  },
  {
   "cell_type": "code",
   "execution_count": 22,
   "metadata": {},
   "outputs": [
    {
     "output_type": "stream",
     "name": "stdout",
     "text": [
      "0\n",
      "INFO:tensorflow:batch_all_reduce: 118 all-reduces with algorithm = nccl, num_packs = 1\n",
      "INFO:tensorflow:batch_all_reduce: 118 all-reduces with algorithm = nccl, num_packs = 1\n",
      "WARNING:tensorflow:Gradients do not exist for variables ['unet_1/down_1_x2/conv_bn_relu_35/batch_normalization_210/gamma:0', 'unet_1/down_1_x2/conv_bn_relu_35/batch_normalization_210/beta:0', 'unet_1/down_1_x2/dwconv_bn_relu_15/batch_normalization_211/gamma:0', 'unet_1/down_1_x2/dwconv_bn_relu_15/batch_normalization_211/beta:0', 'unet_1/down_1_x2/conv_bn_relu_36/batch_normalization_213/gamma:0', 'unet_1/down_1_x2/conv_bn_relu_36/batch_normalization_213/beta:0', 'unet_1/down_2_x2/conv_bn_relu_37/batch_normalization_214/gamma:0', 'unet_1/down_2_x2/conv_bn_relu_37/batch_normalization_214/beta:0', 'unet_1/down_2_x2/dwconv_bn_relu_17/batch_normalization_215/gamma:0', 'unet_1/down_2_x2/dwconv_bn_relu_17/batch_normalization_215/beta:0', 'unet_1/down_2_x2/conv_bn_relu_38/batch_normalization_217/gamma:0', 'unet_1/down_2_x2/conv_bn_relu_38/batch_normalization_217/beta:0', 'unet_1/down_3_x2/conv_bn_relu_39/batch_normalization_218/gamma:0', 'unet_1/down_3_x2/conv_bn_relu_39/batch_normalization_218/beta:0', 'unet_1/down_3_x2/dwconv_bn_relu_19/batch_normalization_219/gamma:0', 'unet_1/down_3_x2/dwconv_bn_relu_19/batch_normalization_219/beta:0', 'unet_1/down_3_x2/conv_bn_relu_40/batch_normalization_221/gamma:0', 'unet_1/down_3_x2/conv_bn_relu_40/batch_normalization_221/beta:0', 'unet_1/down_4_x4/conv_bn_relu_41/batch_normalization_222/gamma:0', 'unet_1/down_4_x4/conv_bn_relu_41/batch_normalization_222/beta:0', 'unet_1/down_4_x4/dwconv_bn_relu_21/batch_normalization_223/gamma:0', 'unet_1/down_4_x4/dwconv_bn_relu_21/batch_normalization_223/beta:0', 'unet_1/down_4_x4/dwconv_bn_relu_22/batch_normalization_224/gamma:0', 'unet_1/down_4_x4/dwconv_bn_relu_22/batch_normalization_224/beta:0', 'unet_1/down_4_x4/conv_bn_relu_42/batch_normalization_225/gamma:0', 'unet_1/down_4_x4/conv_bn_relu_42/batch_normalization_225/beta:0', 'unet_1/down_5_x4/conv_bn_relu_43/batch_normalization_226/gamma:0', 'unet_1/down_5_x4/conv_bn_relu_43/batch_normalization_226/beta:0', 'unet_1/down_5_x4/dwconv_bn_relu_23/batch_normalization_227/gamma:0', 'unet_1/down_5_x4/dwconv_bn_relu_23/batch_normalization_227/beta:0', 'unet_1/down_5_x4/dwconv_bn_relu_24/batch_normalization_228/gamma:0', 'unet_1/down_5_x4/dwconv_bn_relu_24/batch_normalization_228/beta:0', 'unet_1/down_5_x4/conv_bn_relu_44/batch_normalization_229/gamma:0', 'unet_1/down_5_x4/conv_bn_relu_44/batch_normalization_229/beta:0', 'unet_1/up_1_x4/conv_bn_relu_45/batch_normalization_230/gamma:0', 'unet_1/up_1_x4/conv_bn_relu_45/batch_normalization_230/beta:0', 'unet_1/up_1_x4/conv_bn_relu_46/batch_normalization_231/gamma:0', 'unet_1/up_1_x4/conv_bn_relu_46/batch_normalization_231/beta:0', 'unet_1/up_1_x4/dwconv_bn_relu_25/batch_normalization_232/gamma:0', 'unet_1/up_1_x4/dwconv_bn_relu_25/batch_normalization_232/beta:0', 'unet_1/up_2_x4/conv_bn_relu_47/batch_normalization_233/gamma:0', 'unet_1/up_2_x4/conv_bn_relu_47/batch_normalization_233/beta:0', 'unet_1/up_2_x4/conv_bn_relu_48/batch_normalization_234/gamma:0', 'unet_1/up_2_x4/conv_bn_relu_48/batch_normalization_234/beta:0', 'unet_1/up_2_x4/dwconv_bn_relu_26/batch_normalization_235/gamma:0', 'unet_1/up_2_x4/dwconv_bn_relu_26/batch_normalization_235/beta:0', 'unet_1/up_3_x2/conv_bn_relu_49/batch_normalization_236/gamma:0', 'unet_1/up_3_x2/conv_bn_relu_49/batch_normalization_236/beta:0', 'unet_1/up_3_x2/dwconv_bn_relu_27/batch_normalization_238/gamma:0', 'unet_1/up_3_x2/dwconv_bn_relu_27/batch_normalization_238/beta:0', 'unet_1/up_4_x2/conv_bn_relu_51/batch_normalization_239/gamma:0', 'unet_1/up_4_x2/conv_bn_relu_51/batch_normalization_239/beta:0', 'unet_1/up_4_x2/dwconv_bn_relu_28/batch_normalization_241/gamma:0', 'unet_1/up_4_x2/dwconv_bn_relu_28/batch_normalization_241/beta:0', 'unet_1/last_up_x2/conv_bn_relu_53/batch_normalization_242/gamma:0', 'unet_1/last_up_x2/conv_bn_relu_53/batch_normalization_242/beta:0', 'unet_1/last_up_x2/dwconv_bn_relu_29/batch_normalization_244/gamma:0', 'unet_1/last_up_x2/dwconv_bn_relu_29/batch_normalization_244/beta:0'] when minimizing the loss.\n",
      "INFO:tensorflow:Error reported to Coordinator: \n",
      "Traceback (most recent call last):\n",
      "  File \"/home/yons/Desktop/developer-luo/SWatNet/venv/lib/python3.6/site-packages/tensorflow/python/training/coordinator.py\", line 297, in stop_on_exception\n",
      "    yield\n",
      "  File \"/home/yons/Desktop/developer-luo/SWatNet/venv/lib/python3.6/site-packages/tensorflow/python/distribute/mirrored_run.py\", line 210, in _call_for_each_replica\n",
      "    tuple(t.merge_args for t in threads))\n",
      "  File \"/home/yons/Desktop/developer-luo/SWatNet/venv/lib/python3.6/site-packages/tensorflow/python/distribute/distribute_utils.py\", line 62, in regroup\n",
      "    for i in range(len(v0)))\n",
      "  File \"/home/yons/Desktop/developer-luo/SWatNet/venv/lib/python3.6/site-packages/tensorflow/python/distribute/distribute_utils.py\", line 62, in <genexpr>\n",
      "    for i in range(len(v0)))\n",
      "  File \"/home/yons/Desktop/developer-luo/SWatNet/venv/lib/python3.6/site-packages/tensorflow/python/distribute/distribute_utils.py\", line 59, in regroup\n",
      "    assert len(v) == len(v0)\n",
      "AssertionError\n"
     ]
    },
    {
     "output_type": "error",
     "ename": "AssertionError",
     "evalue": "in user code:\n\n    <ipython-input-15-37ed38b9cf67>:14 distributed_train_step  *\n        per_replica_losses = strategy.run(train_step, args=(x, y))\n    /home/yons/Desktop/developer-luo/SWatNet/venv/lib/python3.6/site-packages/tensorflow/python/distribute/distribute_lib.py:1259 run  **\n        return self._extended.call_for_each_replica(fn, args=args, kwargs=kwargs)\n    /home/yons/Desktop/developer-luo/SWatNet/venv/lib/python3.6/site-packages/tensorflow/python/distribute/distribute_lib.py:2730 call_for_each_replica\n        return self._call_for_each_replica(fn, args, kwargs)\n    /home/yons/Desktop/developer-luo/SWatNet/venv/lib/python3.6/site-packages/tensorflow/python/distribute/mirrored_strategy.py:629 _call_for_each_replica\n        self._container_strategy(), fn, args, kwargs)\n    /home/yons/Desktop/developer-luo/SWatNet/venv/lib/python3.6/site-packages/tensorflow/python/distribute/mirrored_run.py:93 call_for_each_replica\n        return _call_for_each_replica(strategy, fn, args, kwargs)\n    /home/yons/Desktop/developer-luo/SWatNet/venv/lib/python3.6/site-packages/tensorflow/python/distribute/mirrored_run.py:234 _call_for_each_replica\n        coord.join(threads)\n    /home/yons/Desktop/developer-luo/SWatNet/venv/lib/python3.6/site-packages/tensorflow/python/training/coordinator.py:389 join\n        six.reraise(*self._exc_info_to_raise)\n    /home/yons/Desktop/developer-luo/SWatNet/venv/lib/python3.6/site-packages/six.py:703 reraise\n        raise value\n    /home/yons/Desktop/developer-luo/SWatNet/venv/lib/python3.6/site-packages/tensorflow/python/training/coordinator.py:297 stop_on_exception\n        yield\n    /home/yons/Desktop/developer-luo/SWatNet/venv/lib/python3.6/site-packages/tensorflow/python/distribute/mirrored_run.py:210 _call_for_each_replica\n        tuple(t.merge_args for t in threads))\n    /home/yons/Desktop/developer-luo/SWatNet/venv/lib/python3.6/site-packages/tensorflow/python/distribute/distribute_utils.py:62 regroup\n        for i in range(len(v0)))\n    /home/yons/Desktop/developer-luo/SWatNet/venv/lib/python3.6/site-packages/tensorflow/python/distribute/distribute_utils.py:62 <genexpr>\n        for i in range(len(v0)))\n    /home/yons/Desktop/developer-luo/SWatNet/venv/lib/python3.6/site-packages/tensorflow/python/distribute/distribute_utils.py:59 regroup\n        assert len(v) == len(v0)\n\n    AssertionError: \n",
     "traceback": [
      "\u001b[0;31m---------------------------------------------------------------------------\u001b[0m",
      "\u001b[0;31mAssertionError\u001b[0m                            Traceback (most recent call last)",
      "\u001b[0;32m<ipython-input-22-96a2584d7243>\u001b[0m in \u001b[0;36m<module>\u001b[0;34m\u001b[0m\n\u001b[1;32m      1\u001b[0m \u001b[0;31m## training\u001b[0m\u001b[0;34m\u001b[0m\u001b[0;34m\u001b[0m\u001b[0;34m\u001b[0m\u001b[0m\n\u001b[0;32m----> 2\u001b[0;31m \u001b[0mtrain_loops\u001b[0m\u001b[0;34m(\u001b[0m\u001b[0mtra_dset_dist\u001b[0m\u001b[0;34m,\u001b[0m \u001b[0mtest_dset_dist\u001b[0m\u001b[0;34m,\u001b[0m \u001b[0mepochs\u001b[0m\u001b[0;34m=\u001b[0m\u001b[0;36m200\u001b[0m\u001b[0;34m)\u001b[0m\u001b[0;34m\u001b[0m\u001b[0;34m\u001b[0m\u001b[0m\n\u001b[0m\u001b[1;32m      3\u001b[0m \u001b[0;34m\u001b[0m\u001b[0m\n",
      "\u001b[0;32m<ipython-input-21-493696917f27>\u001b[0m in \u001b[0;36mtrain_loops\u001b[0;34m(tra_dset, test_dset, epochs)\u001b[0m\n\u001b[1;32m     40\u001b[0m             \u001b[0;31m# x_batch = img_missing(x_batch)\u001b[0m\u001b[0;34m\u001b[0m\u001b[0;34m\u001b[0m\u001b[0;34m\u001b[0m\u001b[0m\n\u001b[1;32m     41\u001b[0m             \u001b[0mx_batch\u001b[0m\u001b[0;34m=\u001b[0m\u001b[0mx_batch\u001b[0m\u001b[0;34m[\u001b[0m\u001b[0;36m2\u001b[0m\u001b[0;34m]\u001b[0m   \u001b[0;31m##!!note: x_batch[2] for single-scale model\u001b[0m\u001b[0;34m\u001b[0m\u001b[0;34m\u001b[0m\u001b[0m\n\u001b[0;32m---> 42\u001b[0;31m             \u001b[0mtotal_loss\u001b[0m \u001b[0;34m=\u001b[0m \u001b[0mdistributed_train_step\u001b[0m\u001b[0;34m(\u001b[0m\u001b[0mx_batch\u001b[0m\u001b[0;34m,\u001b[0m \u001b[0my_batch\u001b[0m\u001b[0;34m)\u001b[0m\u001b[0;34m\u001b[0m\u001b[0;34m\u001b[0m\u001b[0m\n\u001b[0m\u001b[1;32m     43\u001b[0m             \u001b[0mnum_batches\u001b[0m \u001b[0;34m+=\u001b[0m \u001b[0;36m1\u001b[0m\u001b[0;34m\u001b[0m\u001b[0;34m\u001b[0m\u001b[0m\n\u001b[1;32m     44\u001b[0m         \u001b[0mtrain_loss\u001b[0m \u001b[0;34m=\u001b[0m \u001b[0mtotal_loss\u001b[0m\u001b[0;34m/\u001b[0m\u001b[0mnum_batches\u001b[0m\u001b[0;34m\u001b[0m\u001b[0;34m\u001b[0m\u001b[0m\n",
      "\u001b[0;32m~/Desktop/developer-luo/SWatNet/venv/lib/python3.6/site-packages/tensorflow/python/eager/def_function.py\u001b[0m in \u001b[0;36m__call__\u001b[0;34m(self, *args, **kwds)\u001b[0m\n\u001b[1;32m    826\u001b[0m     \u001b[0mtracing_count\u001b[0m \u001b[0;34m=\u001b[0m \u001b[0mself\u001b[0m\u001b[0;34m.\u001b[0m\u001b[0mexperimental_get_tracing_count\u001b[0m\u001b[0;34m(\u001b[0m\u001b[0;34m)\u001b[0m\u001b[0;34m\u001b[0m\u001b[0;34m\u001b[0m\u001b[0m\n\u001b[1;32m    827\u001b[0m     \u001b[0;32mwith\u001b[0m \u001b[0mtrace\u001b[0m\u001b[0;34m.\u001b[0m\u001b[0mTrace\u001b[0m\u001b[0;34m(\u001b[0m\u001b[0mself\u001b[0m\u001b[0;34m.\u001b[0m\u001b[0m_name\u001b[0m\u001b[0;34m)\u001b[0m \u001b[0;32mas\u001b[0m \u001b[0mtm\u001b[0m\u001b[0;34m:\u001b[0m\u001b[0;34m\u001b[0m\u001b[0;34m\u001b[0m\u001b[0m\n\u001b[0;32m--> 828\u001b[0;31m       \u001b[0mresult\u001b[0m \u001b[0;34m=\u001b[0m \u001b[0mself\u001b[0m\u001b[0;34m.\u001b[0m\u001b[0m_call\u001b[0m\u001b[0;34m(\u001b[0m\u001b[0;34m*\u001b[0m\u001b[0margs\u001b[0m\u001b[0;34m,\u001b[0m \u001b[0;34m**\u001b[0m\u001b[0mkwds\u001b[0m\u001b[0;34m)\u001b[0m\u001b[0;34m\u001b[0m\u001b[0;34m\u001b[0m\u001b[0m\n\u001b[0m\u001b[1;32m    829\u001b[0m       \u001b[0mcompiler\u001b[0m \u001b[0;34m=\u001b[0m \u001b[0;34m\"xla\"\u001b[0m \u001b[0;32mif\u001b[0m \u001b[0mself\u001b[0m\u001b[0;34m.\u001b[0m\u001b[0m_experimental_compile\u001b[0m \u001b[0;32melse\u001b[0m \u001b[0;34m\"nonXla\"\u001b[0m\u001b[0;34m\u001b[0m\u001b[0;34m\u001b[0m\u001b[0m\n\u001b[1;32m    830\u001b[0m       \u001b[0mnew_tracing_count\u001b[0m \u001b[0;34m=\u001b[0m \u001b[0mself\u001b[0m\u001b[0;34m.\u001b[0m\u001b[0mexperimental_get_tracing_count\u001b[0m\u001b[0;34m(\u001b[0m\u001b[0;34m)\u001b[0m\u001b[0;34m\u001b[0m\u001b[0;34m\u001b[0m\u001b[0m\n",
      "\u001b[0;32m~/Desktop/developer-luo/SWatNet/venv/lib/python3.6/site-packages/tensorflow/python/eager/def_function.py\u001b[0m in \u001b[0;36m_call\u001b[0;34m(self, *args, **kwds)\u001b[0m\n\u001b[1;32m    853\u001b[0m       \u001b[0;31m# In this case we have created variables on the first call, so we run the\u001b[0m\u001b[0;34m\u001b[0m\u001b[0;34m\u001b[0m\u001b[0;34m\u001b[0m\u001b[0m\n\u001b[1;32m    854\u001b[0m       \u001b[0;31m# defunned version which is guaranteed to never create variables.\u001b[0m\u001b[0;34m\u001b[0m\u001b[0;34m\u001b[0m\u001b[0;34m\u001b[0m\u001b[0m\n\u001b[0;32m--> 855\u001b[0;31m       \u001b[0;32mreturn\u001b[0m \u001b[0mself\u001b[0m\u001b[0;34m.\u001b[0m\u001b[0m_stateless_fn\u001b[0m\u001b[0;34m(\u001b[0m\u001b[0;34m*\u001b[0m\u001b[0margs\u001b[0m\u001b[0;34m,\u001b[0m \u001b[0;34m**\u001b[0m\u001b[0mkwds\u001b[0m\u001b[0;34m)\u001b[0m  \u001b[0;31m# pylint: disable=not-callable\u001b[0m\u001b[0;34m\u001b[0m\u001b[0;34m\u001b[0m\u001b[0m\n\u001b[0m\u001b[1;32m    856\u001b[0m     \u001b[0;32melif\u001b[0m \u001b[0mself\u001b[0m\u001b[0;34m.\u001b[0m\u001b[0m_stateful_fn\u001b[0m \u001b[0;32mis\u001b[0m \u001b[0;32mnot\u001b[0m \u001b[0;32mNone\u001b[0m\u001b[0;34m:\u001b[0m\u001b[0;34m\u001b[0m\u001b[0;34m\u001b[0m\u001b[0m\n\u001b[1;32m    857\u001b[0m       \u001b[0;31m# Release the lock early so that multiple threads can perform the call\u001b[0m\u001b[0;34m\u001b[0m\u001b[0;34m\u001b[0m\u001b[0;34m\u001b[0m\u001b[0m\n",
      "\u001b[0;32m~/Desktop/developer-luo/SWatNet/venv/lib/python3.6/site-packages/tensorflow/python/eager/function.py\u001b[0m in \u001b[0;36m__call__\u001b[0;34m(self, *args, **kwargs)\u001b[0m\n\u001b[1;32m   2939\u001b[0m     \u001b[0;32mwith\u001b[0m \u001b[0mself\u001b[0m\u001b[0;34m.\u001b[0m\u001b[0m_lock\u001b[0m\u001b[0;34m:\u001b[0m\u001b[0;34m\u001b[0m\u001b[0;34m\u001b[0m\u001b[0m\n\u001b[1;32m   2940\u001b[0m       (graph_function,\n\u001b[0;32m-> 2941\u001b[0;31m        filtered_flat_args) = self._maybe_define_function(args, kwargs)\n\u001b[0m\u001b[1;32m   2942\u001b[0m     return graph_function._call_flat(\n\u001b[1;32m   2943\u001b[0m         filtered_flat_args, captured_inputs=graph_function.captured_inputs)  # pylint: disable=protected-access\n",
      "\u001b[0;32m~/Desktop/developer-luo/SWatNet/venv/lib/python3.6/site-packages/tensorflow/python/eager/function.py\u001b[0m in \u001b[0;36m_maybe_define_function\u001b[0;34m(self, args, kwargs)\u001b[0m\n\u001b[1;32m   3359\u001b[0m \u001b[0;34m\u001b[0m\u001b[0m\n\u001b[1;32m   3360\u001b[0m           \u001b[0mself\u001b[0m\u001b[0;34m.\u001b[0m\u001b[0m_function_cache\u001b[0m\u001b[0;34m.\u001b[0m\u001b[0mmissed\u001b[0m\u001b[0;34m.\u001b[0m\u001b[0madd\u001b[0m\u001b[0;34m(\u001b[0m\u001b[0mcall_context_key\u001b[0m\u001b[0;34m)\u001b[0m\u001b[0;34m\u001b[0m\u001b[0;34m\u001b[0m\u001b[0m\n\u001b[0;32m-> 3361\u001b[0;31m           \u001b[0mgraph_function\u001b[0m \u001b[0;34m=\u001b[0m \u001b[0mself\u001b[0m\u001b[0;34m.\u001b[0m\u001b[0m_create_graph_function\u001b[0m\u001b[0;34m(\u001b[0m\u001b[0margs\u001b[0m\u001b[0;34m,\u001b[0m \u001b[0mkwargs\u001b[0m\u001b[0;34m)\u001b[0m\u001b[0;34m\u001b[0m\u001b[0;34m\u001b[0m\u001b[0m\n\u001b[0m\u001b[1;32m   3362\u001b[0m           \u001b[0mself\u001b[0m\u001b[0;34m.\u001b[0m\u001b[0m_function_cache\u001b[0m\u001b[0;34m.\u001b[0m\u001b[0mprimary\u001b[0m\u001b[0;34m[\u001b[0m\u001b[0mcache_key\u001b[0m\u001b[0;34m]\u001b[0m \u001b[0;34m=\u001b[0m \u001b[0mgraph_function\u001b[0m\u001b[0;34m\u001b[0m\u001b[0;34m\u001b[0m\u001b[0m\n\u001b[1;32m   3363\u001b[0m \u001b[0;34m\u001b[0m\u001b[0m\n",
      "\u001b[0;32m~/Desktop/developer-luo/SWatNet/venv/lib/python3.6/site-packages/tensorflow/python/eager/function.py\u001b[0m in \u001b[0;36m_create_graph_function\u001b[0;34m(self, args, kwargs, override_flat_arg_shapes)\u001b[0m\n\u001b[1;32m   3204\u001b[0m             \u001b[0marg_names\u001b[0m\u001b[0;34m=\u001b[0m\u001b[0marg_names\u001b[0m\u001b[0;34m,\u001b[0m\u001b[0;34m\u001b[0m\u001b[0;34m\u001b[0m\u001b[0m\n\u001b[1;32m   3205\u001b[0m             \u001b[0moverride_flat_arg_shapes\u001b[0m\u001b[0;34m=\u001b[0m\u001b[0moverride_flat_arg_shapes\u001b[0m\u001b[0;34m,\u001b[0m\u001b[0;34m\u001b[0m\u001b[0;34m\u001b[0m\u001b[0m\n\u001b[0;32m-> 3206\u001b[0;31m             capture_by_value=self._capture_by_value),\n\u001b[0m\u001b[1;32m   3207\u001b[0m         \u001b[0mself\u001b[0m\u001b[0;34m.\u001b[0m\u001b[0m_function_attributes\u001b[0m\u001b[0;34m,\u001b[0m\u001b[0;34m\u001b[0m\u001b[0;34m\u001b[0m\u001b[0m\n\u001b[1;32m   3208\u001b[0m         \u001b[0mfunction_spec\u001b[0m\u001b[0;34m=\u001b[0m\u001b[0mself\u001b[0m\u001b[0;34m.\u001b[0m\u001b[0mfunction_spec\u001b[0m\u001b[0;34m,\u001b[0m\u001b[0;34m\u001b[0m\u001b[0;34m\u001b[0m\u001b[0m\n",
      "\u001b[0;32m~/Desktop/developer-luo/SWatNet/venv/lib/python3.6/site-packages/tensorflow/python/framework/func_graph.py\u001b[0m in \u001b[0;36mfunc_graph_from_py_func\u001b[0;34m(name, python_func, args, kwargs, signature, func_graph, autograph, autograph_options, add_control_dependencies, arg_names, op_return_value, collections, capture_by_value, override_flat_arg_shapes)\u001b[0m\n\u001b[1;32m    988\u001b[0m         \u001b[0m_\u001b[0m\u001b[0;34m,\u001b[0m \u001b[0moriginal_func\u001b[0m \u001b[0;34m=\u001b[0m \u001b[0mtf_decorator\u001b[0m\u001b[0;34m.\u001b[0m\u001b[0munwrap\u001b[0m\u001b[0;34m(\u001b[0m\u001b[0mpython_func\u001b[0m\u001b[0;34m)\u001b[0m\u001b[0;34m\u001b[0m\u001b[0;34m\u001b[0m\u001b[0m\n\u001b[1;32m    989\u001b[0m \u001b[0;34m\u001b[0m\u001b[0m\n\u001b[0;32m--> 990\u001b[0;31m       \u001b[0mfunc_outputs\u001b[0m \u001b[0;34m=\u001b[0m \u001b[0mpython_func\u001b[0m\u001b[0;34m(\u001b[0m\u001b[0;34m*\u001b[0m\u001b[0mfunc_args\u001b[0m\u001b[0;34m,\u001b[0m \u001b[0;34m**\u001b[0m\u001b[0mfunc_kwargs\u001b[0m\u001b[0;34m)\u001b[0m\u001b[0;34m\u001b[0m\u001b[0;34m\u001b[0m\u001b[0m\n\u001b[0m\u001b[1;32m    991\u001b[0m \u001b[0;34m\u001b[0m\u001b[0m\n\u001b[1;32m    992\u001b[0m       \u001b[0;31m# invariant: `func_outputs` contains only Tensors, CompositeTensors,\u001b[0m\u001b[0;34m\u001b[0m\u001b[0;34m\u001b[0m\u001b[0;34m\u001b[0m\u001b[0m\n",
      "\u001b[0;32m~/Desktop/developer-luo/SWatNet/venv/lib/python3.6/site-packages/tensorflow/python/eager/def_function.py\u001b[0m in \u001b[0;36mwrapped_fn\u001b[0;34m(*args, **kwds)\u001b[0m\n\u001b[1;32m    632\u001b[0m             \u001b[0mxla_context\u001b[0m\u001b[0;34m.\u001b[0m\u001b[0mExit\u001b[0m\u001b[0;34m(\u001b[0m\u001b[0;34m)\u001b[0m\u001b[0;34m\u001b[0m\u001b[0;34m\u001b[0m\u001b[0m\n\u001b[1;32m    633\u001b[0m         \u001b[0;32melse\u001b[0m\u001b[0;34m:\u001b[0m\u001b[0;34m\u001b[0m\u001b[0;34m\u001b[0m\u001b[0m\n\u001b[0;32m--> 634\u001b[0;31m           \u001b[0mout\u001b[0m \u001b[0;34m=\u001b[0m \u001b[0mweak_wrapped_fn\u001b[0m\u001b[0;34m(\u001b[0m\u001b[0;34m)\u001b[0m\u001b[0;34m.\u001b[0m\u001b[0m__wrapped__\u001b[0m\u001b[0;34m(\u001b[0m\u001b[0;34m*\u001b[0m\u001b[0margs\u001b[0m\u001b[0;34m,\u001b[0m \u001b[0;34m**\u001b[0m\u001b[0mkwds\u001b[0m\u001b[0;34m)\u001b[0m\u001b[0;34m\u001b[0m\u001b[0;34m\u001b[0m\u001b[0m\n\u001b[0m\u001b[1;32m    635\u001b[0m         \u001b[0;32mreturn\u001b[0m \u001b[0mout\u001b[0m\u001b[0;34m\u001b[0m\u001b[0;34m\u001b[0m\u001b[0m\n\u001b[1;32m    636\u001b[0m \u001b[0;34m\u001b[0m\u001b[0m\n",
      "\u001b[0;32m~/Desktop/developer-luo/SWatNet/venv/lib/python3.6/site-packages/tensorflow/python/framework/func_graph.py\u001b[0m in \u001b[0;36mwrapper\u001b[0;34m(*args, **kwargs)\u001b[0m\n\u001b[1;32m    975\u001b[0m           \u001b[0;32mexcept\u001b[0m \u001b[0mException\u001b[0m \u001b[0;32mas\u001b[0m \u001b[0me\u001b[0m\u001b[0;34m:\u001b[0m  \u001b[0;31m# pylint:disable=broad-except\u001b[0m\u001b[0;34m\u001b[0m\u001b[0;34m\u001b[0m\u001b[0m\n\u001b[1;32m    976\u001b[0m             \u001b[0;32mif\u001b[0m \u001b[0mhasattr\u001b[0m\u001b[0;34m(\u001b[0m\u001b[0me\u001b[0m\u001b[0;34m,\u001b[0m \u001b[0;34m\"ag_error_metadata\"\u001b[0m\u001b[0;34m)\u001b[0m\u001b[0;34m:\u001b[0m\u001b[0;34m\u001b[0m\u001b[0;34m\u001b[0m\u001b[0m\n\u001b[0;32m--> 977\u001b[0;31m               \u001b[0;32mraise\u001b[0m \u001b[0me\u001b[0m\u001b[0;34m.\u001b[0m\u001b[0mag_error_metadata\u001b[0m\u001b[0;34m.\u001b[0m\u001b[0mto_exception\u001b[0m\u001b[0;34m(\u001b[0m\u001b[0me\u001b[0m\u001b[0;34m)\u001b[0m\u001b[0;34m\u001b[0m\u001b[0;34m\u001b[0m\u001b[0m\n\u001b[0m\u001b[1;32m    978\u001b[0m             \u001b[0;32melse\u001b[0m\u001b[0;34m:\u001b[0m\u001b[0;34m\u001b[0m\u001b[0;34m\u001b[0m\u001b[0m\n\u001b[1;32m    979\u001b[0m               \u001b[0;32mraise\u001b[0m\u001b[0;34m\u001b[0m\u001b[0;34m\u001b[0m\u001b[0m\n",
      "\u001b[0;31mAssertionError\u001b[0m: in user code:\n\n    <ipython-input-15-37ed38b9cf67>:14 distributed_train_step  *\n        per_replica_losses = strategy.run(train_step, args=(x, y))\n    /home/yons/Desktop/developer-luo/SWatNet/venv/lib/python3.6/site-packages/tensorflow/python/distribute/distribute_lib.py:1259 run  **\n        return self._extended.call_for_each_replica(fn, args=args, kwargs=kwargs)\n    /home/yons/Desktop/developer-luo/SWatNet/venv/lib/python3.6/site-packages/tensorflow/python/distribute/distribute_lib.py:2730 call_for_each_replica\n        return self._call_for_each_replica(fn, args, kwargs)\n    /home/yons/Desktop/developer-luo/SWatNet/venv/lib/python3.6/site-packages/tensorflow/python/distribute/mirrored_strategy.py:629 _call_for_each_replica\n        self._container_strategy(), fn, args, kwargs)\n    /home/yons/Desktop/developer-luo/SWatNet/venv/lib/python3.6/site-packages/tensorflow/python/distribute/mirrored_run.py:93 call_for_each_replica\n        return _call_for_each_replica(strategy, fn, args, kwargs)\n    /home/yons/Desktop/developer-luo/SWatNet/venv/lib/python3.6/site-packages/tensorflow/python/distribute/mirrored_run.py:234 _call_for_each_replica\n        coord.join(threads)\n    /home/yons/Desktop/developer-luo/SWatNet/venv/lib/python3.6/site-packages/tensorflow/python/training/coordinator.py:389 join\n        six.reraise(*self._exc_info_to_raise)\n    /home/yons/Desktop/developer-luo/SWatNet/venv/lib/python3.6/site-packages/six.py:703 reraise\n        raise value\n    /home/yons/Desktop/developer-luo/SWatNet/venv/lib/python3.6/site-packages/tensorflow/python/training/coordinator.py:297 stop_on_exception\n        yield\n    /home/yons/Desktop/developer-luo/SWatNet/venv/lib/python3.6/site-packages/tensorflow/python/distribute/mirrored_run.py:210 _call_for_each_replica\n        tuple(t.merge_args for t in threads))\n    /home/yons/Desktop/developer-luo/SWatNet/venv/lib/python3.6/site-packages/tensorflow/python/distribute/distribute_utils.py:62 regroup\n        for i in range(len(v0)))\n    /home/yons/Desktop/developer-luo/SWatNet/venv/lib/python3.6/site-packages/tensorflow/python/distribute/distribute_utils.py:62 <genexpr>\n        for i in range(len(v0)))\n    /home/yons/Desktop/developer-luo/SWatNet/venv/lib/python3.6/site-packages/tensorflow/python/distribute/distribute_utils.py:59 regroup\n        assert len(v) == len(v0)\n\n    AssertionError: \n"
     ]
    }
   ],
   "source": [
    "## training\n",
    "train_loops(tra_dset_dist, test_dset_dist, epochs=200)\n",
    "\n"
   ]
  }
 ]
}