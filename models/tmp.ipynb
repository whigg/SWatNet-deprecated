{
 "metadata": {
  "language_info": {
   "codemirror_mode": {
    "name": "ipython",
    "version": 3
   },
   "file_extension": ".py",
   "mimetype": "text/x-python",
   "name": "python",
   "nbconvert_exporter": "python",
   "pygments_lexer": "ipython3",
   "version": "3.6.9-final"
  },
  "orig_nbformat": 2,
  "kernelspec": {
   "name": "python3",
   "display_name": "Python 3.6.9 64-bit ('venv')",
   "metadata": {
    "interpreter": {
     "hash": "1d32d083de5443e80ae33db15d1fd8896dae913c69d9faf431260a27bb617b64"
    }
   }
  }
 },
 "nbformat": 4,
 "nbformat_minor": 2,
 "cells": [
  {
   "cell_type": "code",
   "execution_count": 1,
   "metadata": {},
   "outputs": [
    {
     "output_type": "execute_result",
     "data": {
      "text/plain": [
       "['/home/yons/Desktop/developer-luo/SWatNet/models',\n",
       " '/home/yons/.vscode-server/extensions/ms-toolsai.jupyter-2021.3.619093157/pythonFiles/vscode_datascience_helpers/../.does-not-exist',\n",
       " '/home/yons/.vscode-server/extensions/ms-toolsai.jupyter-2021.3.619093157/pythonFiles',\n",
       " '/home/yons/.vscode-server/extensions/ms-toolsai.jupyter-2021.3.619093157/pythonFiles/lib/python',\n",
       " '/usr/lib/python36.zip',\n",
       " '/usr/lib/python3.6',\n",
       " '/usr/lib/python3.6/lib-dynload',\n",
       " '',\n",
       " '/home/yons/Desktop/developer-luo/SWatNet/venv/lib/python3.6/site-packages',\n",
       " '/home/yons/Desktop/developer-luo/SWatNet/venv/lib/python3.6/site-packages/IPython/extensions',\n",
       " '/home/yons/.ipython']"
      ]
     },
     "metadata": {},
     "execution_count": 1
    }
   ],
   "source": []
  }
 ]
}